{
 "cells": [
  {
   "cell_type": "code",
   "execution_count": 1,
   "metadata": {},
   "outputs": [],
   "source": [
    "%matplotlib inline\n",
    "from matplotlib import style\n",
    "style.use('fivethirtyeight')\n",
    "import matplotlib.pyplot as plt"
   ]
  },
  {
   "cell_type": "code",
   "execution_count": 2,
   "metadata": {},
   "outputs": [],
   "source": [
    "import numpy as np\n",
    "import pandas as pd"
   ]
  },
  {
   "cell_type": "code",
   "execution_count": 3,
   "metadata": {},
   "outputs": [],
   "source": [
    "import datetime as dt"
   ]
  },
  {
   "cell_type": "markdown",
   "metadata": {},
   "source": [
    "# Reflect Tables into SQLAlchemy ORM"
   ]
  },
  {
   "cell_type": "code",
   "execution_count": 4,
   "metadata": {},
   "outputs": [],
   "source": [
    "# Python SQL toolkit and Object Relational Mapper\n",
    "import sqlalchemy\n",
    "from sqlalchemy.ext.automap import automap_base\n",
    "from sqlalchemy.orm import Session\n",
    "from sqlalchemy import create_engine, func, inspect, distinct"
   ]
  },
  {
   "cell_type": "code",
   "execution_count": 5,
   "metadata": {},
   "outputs": [],
   "source": [
    "engine = create_engine(\"sqlite:///Resources/hawaii.sqlite\")\n",
    "conn = engine.connect()"
   ]
  },
  {
   "cell_type": "code",
   "execution_count": 6,
   "metadata": {},
   "outputs": [],
   "source": [
    "# reflect an existing database into a new model\n",
    "Base = automap_base()\n",
    "# reflect the tables\n",
    "Base.prepare(engine, reflect=True)"
   ]
  },
  {
   "cell_type": "code",
   "execution_count": 7,
   "metadata": {},
   "outputs": [
    {
     "data": {
      "text/plain": [
       "['measurement', 'station']"
      ]
     },
     "execution_count": 7,
     "metadata": {},
     "output_type": "execute_result"
    }
   ],
   "source": [
    "# We can view all of the classes that automap found\n",
    "inspector = inspect(engine)\n",
    "inspector.get_table_names()"
   ]
  },
  {
   "cell_type": "code",
   "execution_count": 8,
   "metadata": {},
   "outputs": [],
   "source": [
    "# Save references to each table\n",
    "Measurement = Base.classes.measurement\n",
    "Station = Base.classes.station"
   ]
  },
  {
   "cell_type": "code",
   "execution_count": 9,
   "metadata": {},
   "outputs": [],
   "source": [
    "# Create our session (link) from Python to the DB\n",
    "session = Session(engine)"
   ]
  },
  {
   "cell_type": "markdown",
   "metadata": {},
   "source": [
    "# Exploratory Climate Analysis"
   ]
  },
  {
   "cell_type": "code",
   "execution_count": 10,
   "metadata": {},
   "outputs": [
    {
     "name": "stdout",
     "output_type": "stream",
     "text": [
      "------------------------------------------\n",
      "# Design a query to retrieve the last 12 months of precipitation data and plot the results\n",
      "------------------------------------------\n",
      "# Calculate the date 1 year ago from the last data point in the database\n",
      "2016-08-23\n",
      "------------------------------------------\n",
      "# Perform a query to retrieve the data and precipitation scores\n",
      "   id      station        date  prcp  tobs\n",
      "0   1  USC00519397  2010-01-01  0.08  65.0\n",
      "1   2  USC00519397  2010-01-02  0.00  63.0\n",
      "2   3  USC00519397  2010-01-03  0.00  74.0\n",
      "3   4  USC00519397  2010-01-04  0.00  76.0\n",
      "4   5  USC00519397  2010-01-06   NaN  73.0\n",
      "------------------------------------------\n",
      "# Save the query results as a Pandas DataFrame and set the index to the date column\n",
      "            id      station  prcp  tobs\n",
      "date                                   \n",
      "2010-01-01   1  USC00519397  0.08  65.0\n",
      "2010-01-02   2  USC00519397  0.00  63.0\n",
      "2010-01-03   3  USC00519397  0.00  74.0\n",
      "2010-01-04   4  USC00519397  0.00  76.0\n",
      "2010-01-06   5  USC00519397   NaN  73.0\n",
      "------------------------------------------\n",
      "# Sort the dataframe by date\n",
      "               id      station  prcp  tobs\n",
      "date                                      \n",
      "2010-01-01      1  USC00519397  0.08  65.0\n",
      "2010-01-01   9008  USC00518838  0.21  72.0\n",
      "2010-01-01   9519  USC00519523  0.15  75.0\n",
      "2010-01-01  12188  USC00519281  0.15  70.0\n",
      "2010-01-01  14960  USC00511918  0.05  66.0\n"
     ]
    },
    {
     "data": {
      "image/png": "[encoded data removed]",
      "text/plain": [
       "<Figure size 432x288 with 1 Axes>"
      ]
     },
     "metadata": {
      "needs_background": "light"
     },
     "output_type": "display_data"
    }
   ],
   "source": [
    "print('------------------------------------------')\n",
    "print('# Design a query to retrieve the last 12 months of precipitation data and plot the results')\n",
    "\n",
    "results = session.query(Measurement.date, Measurement.prcp). \\\n",
    "        filter(Measurement.date > '2016-08').filter(Measurement.prcp > 0).all()\n",
    "\n",
    "dates = []\n",
    "precipitation = []\n",
    "for result in results:\n",
    "    dates.append(result.date)\n",
    "    precipitation.append(result.prcp)\n",
    "    \n",
    "dates_df = pd.DataFrame(dates)\n",
    "precipitation_df = pd.DataFrame(precipitation)\n",
    "    \n",
    "plt.scatter(dates, precipitation);\n",
    "\n",
    "\n",
    "\n",
    "print('------------------------------------------')\n",
    "print('# Calculate the date 1 year ago from the last data point in the database')\n",
    "\n",
    "result = session.query(Measurement.date).order_by(Measurement.date.desc()).first()\n",
    "print(dt.datetime.strptime(result.date, '%Y-%m-%d').date() - dt.timedelta(days=365))\n",
    "\n",
    "\n",
    "\n",
    "print('------------------------------------------')\n",
    "print('# Perform a query to retrieve the data and precipitation scores')\n",
    "\n",
    "results = pd.read_sql(\"select * from measurement\", conn)\n",
    "print(results.head())\n",
    "\n",
    "\n",
    "\n",
    "\n",
    "print('------------------------------------------')\n",
    "print('# Save the query results as a Pandas DataFrame and set the index to the date column')\n",
    "\n",
    "results = results.set_index('date')\n",
    "print(results.head())\n",
    "\n",
    "\n",
    "\n",
    "print('------------------------------------------')\n",
    "print('# Sort the dataframe by date')\n",
    "results = results.sort_values(by='date')\n",
    "print(results.head())\n",
    "\n",
    "\n",
    "# Use Pandas Plotting with Matplotlib to plot the data\n"
   ]
  },
  {
   "cell_type": "code",
   "execution_count": 11,
   "metadata": {},
   "outputs": [
    {
     "name": "stdout",
     "output_type": "stream",
     "text": [
      "                 id          prcp          tobs\n",
      "count  19550.000000  18103.000000  19550.000000\n",
      "mean    9775.500000      0.160644     73.097954\n",
      "std     5643.743217      0.468746      4.523527\n",
      "min        1.000000      0.000000     53.000000\n",
      "25%     4888.250000      0.000000     70.000000\n"
     ]
    }
   ],
   "source": [
    "# Use Pandas to calcualte the summary statistics for the precipitation data\n",
    "results = pd.read_sql(\"select * from measurement\", conn).describe()\n",
    "print(results.head())"
   ]
  },
  {
   "cell_type": "code",
   "execution_count": 12,
   "metadata": {},
   "outputs": [
    {
     "name": "stdout",
     "output_type": "stream",
     "text": [
      "       station\n",
      "0  USC00519397\n",
      "1  USC00513117\n",
      "2  USC00514830\n",
      "3  USC00517948\n",
      "4  USC00518838\n",
      "5  USC00519523\n",
      "6  USC00519281\n",
      "7  USC00511918\n",
      "8  USC00516128\n"
     ]
    }
   ],
   "source": [
    "# Design a query to show how many stations are available in this dataset?\n",
    "results = pd.read_sql(\"select distinct(station) from measurement\", conn)\n",
    "print(results)"
   ]
  },
  {
   "cell_type": "code",
   "execution_count": 13,
   "metadata": {},
   "outputs": [
    {
     "name": "stdout",
     "output_type": "stream",
     "text": [
      "       station  count\n",
      "0  USC00519281   2772\n",
      "1  USC00519397   2724\n",
      "2  USC00513117   2709\n",
      "3  USC00519523   2669\n",
      "4  USC00516128   2612\n",
      "5  USC00514830   2202\n",
      "6  USC00511918   1979\n",
      "7  USC00517948   1372\n",
      "8  USC00518838    511\n"
     ]
    }
   ],
   "source": [
    "# What are the most active stations? (i.e. what stations have the most rows)?\n",
    "# List the stations and the counts in descending order.\n",
    "results = pd.read_sql(\"select station, count(station) as count  from measurement group by station order by count desc\", conn)\n",
    "print(results)\n",
    "\n"
   ]
  },
  {
   "cell_type": "code",
   "execution_count": 14,
   "metadata": {},
   "outputs": [
    {
     "name": "stdout",
     "output_type": "stream",
     "text": [
      "the max temperature is: 87.0\n",
      "the min temperature is: 53.0\n",
      "the avg temperature is: 73.09795396419437\n"
     ]
    }
   ],
   "source": [
    "# Using the station id from the previous query, calculate the lowest temperature recorded, \n",
    "# highest temperature recorded, and average temperature of the most active station?\n",
    "\n",
    "max = session.query(func.max(Measurement.tobs)).scalar()\n",
    "print(f\"the max temperature is: {max}\")        \n",
    "min = session.query(func.min(Measurement.tobs)).scalar() \n",
    "print(f\"the min temperature is: {min}\")\n",
    "avg = session.query(func.avg(Measurement.tobs)).scalar()\n",
    "print(f\"the avg temperature is: {avg}\")      \n"
   ]
  },
  {
   "cell_type": "code",
   "execution_count": 28,
   "metadata": {},
   "outputs": [
    {
     "name": "stdout",
     "output_type": "stream",
     "text": [
      "           date  tobs  month\n",
      "0    2016-08-18  80.0      8\n",
      "1    2016-08-19  79.0      8\n",
      "2    2016-08-20  81.0      8\n",
      "3    2016-08-21  79.0      8\n",
      "4    2016-08-22  78.0      8\n",
      "..          ...   ...    ...\n",
      "352  2017-08-14  77.0      8\n",
      "353  2017-08-15  77.0      8\n",
      "354  2017-08-16  76.0      8\n",
      "355  2017-08-17  76.0      8\n",
      "356  2017-08-18  79.0      8\n",
      "\n",
      "[357 rows x 3 columns]\n"
     ]
    },
    {
     "data": {
      "image/png": "[encoded data removed]",
      "text/plain": [
       "<Figure size 432x288 with 1 Axes>"
      ]
     },
     "metadata": {
      "needs_background": "light"
     },
     "output_type": "display_data"
    }
   ],
   "source": [
    "# Choose the station with the highest number of temperature observations.\n",
    "# STATION: USC00519281   \n",
    "# Query the last 12 months of temperature observation data for this station and plot the results as a histogram\n",
    "\n",
    "results = session.query(Measurement.date, Measurement.tobs) \\\n",
    "        .filter(Measurement.station == 'USC00519281') \\\n",
    "        .filter(Measurement.date >= '2016-08-18' ) \\\n",
    "        .order_by(Measurement.date).all()\n",
    "\n",
    "df = pd.DataFrame(results)\n",
    "df['month'] = pd.DatetimeIndex(df['date']).month\n",
    "print(df)\n",
    "\n",
    "date_obj = {\n",
    "    '1':[],\n",
    "    '2':[],\n",
    "    '3':[],\n",
    "    '4':[],\n",
    "    '5':[],\n",
    "    '6':[],\n",
    "    '7':[],\n",
    "    '8':[],\n",
    "    '9':[],\n",
    "    '10':[],\n",
    "    '11':[],\n",
    "    '12':[]\n",
    "}\n",
    "\n",
    "for i in range(len(df)): \n",
    "    month= df.loc[i, \"month\"]\n",
    "    tobs = df.loc[i, \"tobs\"]\n",
    "    \n",
    "    if tobs.dtype == 'float64' and month > 0:\n",
    "        date_obj[str(month)].append(tobs)\n",
    "\n",
    "key_arr = []\n",
    "tobs_arr = []\n",
    "for key, value in date_obj.items():\n",
    "    sum = 0\n",
    "    avg = 0\n",
    "    for x in range(len(value)):\n",
    "        sum += value[x]\n",
    "    avg = sum/x\n",
    "\n",
    "    key_arr.append(key)\n",
    "    tobs_arr.append(avg)\n",
    "\n",
    "# plt.hist(tobs_arr, key_arr)\n",
    "# plt.xlabel('month')\n",
    "# plt.ylabel('tobs')\n",
    "\n",
    "width = int(key_arr[1]) - int(key_arr[0])\n",
    "plt.bar(key_arr, tobs_arr, align='center', width=width)\n",
    "plt.show()"
   ]
  },
  {
   "cell_type": "markdown",
   "metadata": {},
   "source": [
    "## Bonus Challenge Assignment"
   ]
  },
  {
   "cell_type": "code",
   "execution_count": null,
   "metadata": {},
   "outputs": [],
   "source": [
    "# This function called `calc_temps` will accept start date and end date in the format '%Y-%m-%d' \n",
    "# and return the minimum, average, and maximum temperatures for that range of dates\n",
    "def calc_temps(start_date, end_date):\n",
    "    \"\"\"TMIN, TAVG, and TMAX for a list of dates.\n",
    "    \n",
    "    Args:\n",
    "        start_date (string): A date string in the format %Y-%m-%d\n",
    "        end_date (string): A date string in the format %Y-%m-%d\n",
    "        \n",
    "    Returns:\n",
    "        TMIN, TAVE, and TMAX\n",
    "    \"\"\"\n",
    "    \n",
    "    return session.query(func.min(Measurement.tobs), func.avg(Measurement.tobs), func.max(Measurement.tobs)).\\\n",
    "        filter(Measurement.date >= start_date).filter(Measurement.date <= end_date).all()\n",
    "\n",
    "# function usage example\n",
    "print(calc_temps('2012-02-28', '2012-03-05'))"
   ]
  },
  {
   "cell_type": "code",
   "execution_count": null,
   "metadata": {},
   "outputs": [],
   "source": [
    "# Use your previous function `calc_temps` to calculate the tmin, tavg, and tmax \n",
    "# for your trip using the previous year's data for those same dates.\n"
   ]
  },
  {
   "cell_type": "code",
   "execution_count": null,
   "metadata": {},
   "outputs": [],
   "source": [
    "# Plot the results from your previous query as a bar chart. \n",
    "# Use \"Trip Avg Temp\" as your Title\n",
    "# Use the average temperature for the y value\n",
    "# Use the peak-to-peak (tmax-tmin) value as the y error bar (yerr)\n"
   ]
  },
  {
   "cell_type": "code",
   "execution_count": null,
   "metadata": {},
   "outputs": [],
   "source": [
    "# Calculate the total amount of rainfall per weather station for your trip dates using the previous year's matching dates.\n",
    "# Sort this in descending order by precipitation amount and list the station, name, latitude, longitude, and elevation\n",
    "\n"
   ]
  },
  {
   "cell_type": "code",
   "execution_count": null,
   "metadata": {},
   "outputs": [],
   "source": [
    "# Create a query that will calculate the daily normals \n",
    "# (i.e. the averages for tmin, tmax, and tavg for all historic data matching a specific month and day)\n",
    "\n",
    "def daily_normals(date):\n",
    "    \"\"\"Daily Normals.\n",
    "    \n",
    "    Args:\n",
    "        date (str): A date string in the format '%m-%d'\n",
    "        \n",
    "    Returns:\n",
    "        A list of tuples containing the daily normals, tmin, tavg, and tmax\n",
    "    \n",
    "    \"\"\"\n",
    "    \n",
    "    sel = [func.min(Measurement.tobs), func.avg(Measurement.tobs), func.max(Measurement.tobs)]\n",
    "    return session.query(*sel).filter(func.strftime(\"%m-%d\", Measurement.date) == date).all()\n",
    "    \n",
    "daily_normals(\"01-01\")"
   ]
  },
  {
   "cell_type": "code",
   "execution_count": null,
   "metadata": {},
   "outputs": [],
   "source": [
    "# calculate the daily normals for your trip\n",
    "# push each tuple of calculations into a list called `normals`\n",
    "\n",
    "# Set the start and end date of the trip\n",
    "\n",
    "# Use the start and end date to create a range of dates\n",
    "\n",
    "# Stip off the year and save a list of %m-%d strings\n",
    "\n",
    "# Loop through the list of %m-%d strings and calculate the normals for each date\n"
   ]
  },
  {
   "cell_type": "code",
   "execution_count": null,
   "metadata": {},
   "outputs": [],
   "source": [
    "# Load the previous query results into a Pandas DataFrame and add the `trip_dates` range as the `date` index\n"
   ]
  },
  {
   "cell_type": "code",
   "execution_count": null,
   "metadata": {},
   "outputs": [],
   "source": [
    "# Plot the daily normals as an area plot with `stacked=False`\n"
   ]
  }
 ],
 "metadata": {
  "kernel_info": {
   "name": "python3"
  },
  "kernelspec": {
   "display_name": "Python 3",
   "language": "python",
   "name": "python3"
  },
  "language_info": {
   "codemirror_mode": {
    "name": "ipython",
    "version": 3
   },
   "file_extension": ".py",
   "mimetype": "text/x-python",
   "name": "python",
   "nbconvert_exporter": "python",
   "pygments_lexer": "ipython3",
   "version": "3.7.4"
  },
  "nteract": {
   "version": "0.12.3"
  },
  "varInspector": {
   "cols": {
    "lenName": 16,
    "lenType": 16,
    "lenVar": 40
   },
   "kernels_config": {
    "python": {
     "delete_cmd_postfix": "",
     "delete_cmd_prefix": "del ",
     "library": "var_list.py",
     "varRefreshCmd": "print(var_dic_list())"
    },
    "r": {
     "delete_cmd_postfix": ") ",
     "delete_cmd_prefix": "rm(",
     "library": "var_list.r",
     "varRefreshCmd": "cat(var_dic_list()) "
    }
   },
   "types_to_exclude": [
    "module",
    "function",
    "builtin_function_or_method",
    "instance",
    "_Feature"
   ],
   "window_display": false
  }
 },
 "nbformat": 4,
 "nbformat_minor": 2
}
